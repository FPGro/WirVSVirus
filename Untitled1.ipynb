{
 "cells": [
  {
   "cell_type": "code",
   "execution_count": 1,
   "metadata": {},
   "outputs": [],
   "source": [
    "import csv\n",
    "import pandas as pd\n",
    "from ipywidgets import widgets, Layout, HBox, VBox, interactive\n",
    "from IPython.display import display, HTML, clear_output\n",
    "import qgrid"
   ]
  },
  {
   "cell_type": "code",
   "execution_count": 2,
   "metadata": {},
   "outputs": [],
   "source": [
    "drug_df = pd.read_csv('Wirkstoffliste.csv')"
   ]
  },
  {
   "cell_type": "code",
   "execution_count": 3,
   "metadata": {},
   "outputs": [],
   "source": [
    "def get_drug_by_name(name):\n",
    "    return drug_df[drug_df['Name'].str.contains(name, na=False)]"
   ]
  },
  {
   "cell_type": "code",
   "execution_count": 4,
   "metadata": {},
   "outputs": [],
   "source": [
    "def get_drug_by_target(target_name):\n",
    "    return drug_df[drug_df['Drug target'].str.match(target_name, na=False)]"
   ]
  },
  {
   "cell_type": "code",
   "execution_count": 5,
   "metadata": {},
   "outputs": [],
   "source": [
    "def get_drug_by_target_uniprot_id(target_id):\n",
    "    return drug_df[drug_df['Drug target Uniprot ID'].str.match(target_id, na=False)]"
   ]
  },
  {
   "cell_type": "code",
   "execution_count": 6,
   "metadata": {},
   "outputs": [
    {
     "data": {
      "text/html": [
       "<script>\n",
       "code_show=true; \n",
       "function code_toggle() {\n",
       " if (code_show){\n",
       " $('div.input').hide();\n",
       " } else {\n",
       " $('div.input').show();\n",
       " }\n",
       " code_show = !code_show\n",
       "} \n",
       "$( document ).ready(code_toggle);\n",
       "</script>\n",
       "Toggle code <a href=\"javascript:code_toggle()\">on/off</a>."
      ],
      "text/plain": [
       "<IPython.core.display.HTML object>"
      ]
     },
     "execution_count": 6,
     "metadata": {},
     "output_type": "execute_result"
    }
   ],
   "source": [
    "HTML('''<script>\n",
    "code_show=true; \n",
    "function code_toggle() {\n",
    " if (code_show){\n",
    " $('div.input').hide();\n",
    " } else {\n",
    " $('div.input').show();\n",
    " }\n",
    " code_show = !code_show\n",
    "} \n",
    "$( document ).ready(code_toggle);\n",
    "</script>\n",
    "Toggle code <a href=\"javascript:code_toggle()\">on/off</a>.''')"
   ]
  },
  {
   "cell_type": "code",
   "execution_count": 7,
   "metadata": {
    "scrolled": false
   },
   "outputs": [
    {
     "data": {
      "application/vnd.jupyter.widget-view+json": {
       "model_id": "9032477ca3e54edf8855bc6dc6fa864a",
       "version_major": 2,
       "version_minor": 0
      },
      "text/plain": [
       "HBox(children=(VBox(children=(Label(value='Search the drug data base by'), RadioButtons(options=('Drug Name', …"
      ]
     },
     "metadata": {},
     "output_type": "display_data"
    },
    {
     "data": {
      "application/vnd.jupyter.widget-view+json": {
       "model_id": "a369bde5ad044edaaeb7fc1da5fb514d",
       "version_major": 2,
       "version_minor": 0
      },
      "text/plain": [
       "Output()"
      ]
     },
     "metadata": {},
     "output_type": "display_data"
    }
   ],
   "source": [
    "label = widgets.Label('Search the drug data base by')\n",
    "rb = widgets.RadioButtons(options=['Drug Name', 'Drug Target', 'Drug Target Unitprot ID'],\n",
    "                          disabled=False)\n",
    "rb_index = 0\n",
    "\n",
    "search = widgets.Text(description=\"Search: \") \n",
    "first_row = VBox([label, rb])\n",
    "second_row = VBox([search])\n",
    "display(HBox([first_row, second_row]))\n",
    "\n",
    "output = widgets.Output()\n",
    "display(output)\n",
    "style = {'description_width': 'initial'}\n",
    "\n",
    "def handle_submit(sender):\n",
    "    with output:\n",
    "        clear_output()\n",
    "        if rb.index == 0:\n",
    "            display(qgrid.show_grid(get_drug_by_name(sender.value), show_toolbar=True))\n",
    "        elif rb.index == 1:\n",
    "            display(qgrid.show_grid(get_drug_by_target(sender.value), show_toolbar=True))\n",
    "        else:\n",
    "            display(qgrid.show_grid(get_drug_by_target_uniprot_id(sender.value), show_toolbar=True))\n",
    "\n",
    "search.on_submit(handle_submit)\n",
    "wdig = qgrid.show_grid(drug_df)\n"
   ]
  }
 ],
 "metadata": {
  "kernelspec": {
   "display_name": "Python 3",
   "language": "python",
   "name": "python3"
  },
  "language_info": {
   "codemirror_mode": {
    "name": "ipython",
    "version": 3
   },
   "file_extension": ".py",
   "mimetype": "text/x-python",
   "name": "python",
   "nbconvert_exporter": "python",
   "pygments_lexer": "ipython3",
   "version": "3.7.1"
  }
 },
 "nbformat": 4,
 "nbformat_minor": 4
}
